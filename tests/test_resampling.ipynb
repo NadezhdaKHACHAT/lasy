{
 "cells": [
  {
   "cell_type": "code",
   "execution_count": 1,
   "id": "f27496b5-cddb-4f3c-9f50-91cd4bd54f1b",
   "metadata": {},
   "outputs": [],
   "source": [
    "#test resampling "
   ]
  },
  {
   "cell_type": "code",
   "execution_count": 2,
   "id": "6c63f718-7a30-463b-b7f0-5f697bd3afe4",
   "metadata": {},
   "outputs": [
    {
     "name": "stderr",
     "output_type": "stream",
     "text": [
      "/home/nadezkha/.conda/envs/fbpic/lib/python3.11/site-packages/openpmd_viewer/openpmd_timeseries/interactive.py:16: DeprecationWarning: Importing display from IPython.core.display is deprecated since IPython 7.14, please import from IPython display\n",
      "  from IPython.core.display import display, clear_output\n",
      "/home/nadezkha/.conda/envs/fbpic/lib/python3.11/site-packages/openpmd_viewer/openpmd_timeseries/interactive.py:16: DeprecationWarning: Importing clear_output from IPython.core.display is deprecated since IPython 7.14, please import from IPython display\n",
      "  from IPython.core.display import display, clear_output\n"
     ]
    }
   ],
   "source": [
    "import numpy as np\n",
    "\n",
    "from lasy.laser import Laser, Grid\n",
    "from lasy.optical_elements import ParabolicMirror\n",
    "from lasy.profiles.gaussian_profile import GaussianProfile\n",
    "\n",
    "wavelength = 0.8e-6\n",
    "w0 = 25.0e-3  # m, initialized in near field\n",
    "\n",
    "# The laser is initialized in the near field\n",
    "pol = (1, 0)\n",
    "laser_energy = 1.0  # J\n",
    "t_peak = 0.0e-15  # s\n",
    "tau = 30.0e-15  # s\n",
    "gaussian_profile = GaussianProfile(wavelength, pol, laser_energy, w0, tau, t_peak)\n",
    "\n",
    "\n",
    "def get_w0(laser):\n",
    "    A2 = (np.abs(laser.grid.field[0, :, :]) ** 2).sum(-1)\n",
    "    ax = laser.grid.axes[0]\n",
    "    if ax[0] > 0:\n",
    "        A2 = np.r_[A2[::-1], A2]\n",
    "        ax = np.r_[-ax[::-1], ax]\n",
    "    else:\n",
    "        A2 = np.r_[A2[::-1][:-1], A2]\n",
    "        ax = np.r_[-ax[::-1][:-1], ax]\n",
    "\n",
    "    sigma = 2 * np.sqrt(np.average(ax**2, weights=A2))\n",
    "\n",
    "    return sigma\n",
    "\n",
    "\n",
    "def check_resampling(laser):\n",
    "    # Propagate laser after parabolic mirror + vacuum\n",
    "    f0 = 1.0  # focal distance in m\n",
    "    laser.apply_optics(ParabolicMirror(f=f0))\n",
    "    \n",
    "    new_grid = Grid(dim, lo, (150.e-6, 60e-15), npoints, n_azimuthal_modes=laser.grid.n_azimuthal_modes)    \n",
    "    laser.propagate((f0), grid=new_grid, nr_boundary = 128, backend = 'CU') #resample the grid\n",
    "    \n",
    "    plt.imshow(np.abs(laser.grid.field[0, :, :])**2, aspect = 'auto')\n",
    "    # Check that the value is the expected one in the near field\n",
    "    w0_num = get_w0(laser)\n",
    "    w0_theor = wavelength * f0 / (np.pi * w0)\n",
    "    err = 2 * np.abs(w0_theor - w0_num) / (w0_theor + w0_num)\n",
    "    assert err < 1e-3\n",
    "\n",
    "\n",
    "def test_resampling():\n",
    "    dim = \"rt\"\n",
    "    lo = (0e-3, -60e-15)\n",
    "    hi = (60e-3, +60e-15)\n",
    "    npoints = (6000, 300)\n",
    "\n",
    "    laser = Laser(dim, lo, hi, npoints, gaussian_profile)\n",
    "    check_resampling(laser)\n"
   ]
  },
  {
   "cell_type": "code",
   "execution_count": 3,
   "id": "4b572298-bbeb-489a-827c-08a565914eed",
   "metadata": {},
   "outputs": [
    {
     "ename": "NameError",
     "evalue": "name 'Grid' is not defined",
     "output_type": "error",
     "traceback": [
      "\u001b[0;31m---------------------------------------------------------------------------\u001b[0m",
      "\u001b[0;31mNameError\u001b[0m                                 Traceback (most recent call last)",
      "Cell \u001b[0;32mIn[3], line 7\u001b[0m\n\u001b[1;32m      4\u001b[0m npoints \u001b[38;5;241m=\u001b[39m (\u001b[38;5;241m6000\u001b[39m, \u001b[38;5;241m300\u001b[39m)\n\u001b[1;32m      6\u001b[0m laser \u001b[38;5;241m=\u001b[39m Laser(dim, lo, hi, npoints, gaussian_profile)\n\u001b[0;32m----> 7\u001b[0m \u001b[43mcheck_resampling\u001b[49m\u001b[43m(\u001b[49m\u001b[43mlaser\u001b[49m\u001b[43m)\u001b[49m\n",
      "Cell \u001b[0;32mIn[2], line 38\u001b[0m, in \u001b[0;36mcheck_resampling\u001b[0;34m(laser)\u001b[0m\n\u001b[1;32m     35\u001b[0m f0 \u001b[38;5;241m=\u001b[39m \u001b[38;5;241m1.0\u001b[39m  \u001b[38;5;66;03m# focal distance in m\u001b[39;00m\n\u001b[1;32m     36\u001b[0m laser\u001b[38;5;241m.\u001b[39mapply_optics(ParabolicMirror(f\u001b[38;5;241m=\u001b[39mf0))\n\u001b[0;32m---> 38\u001b[0m new_grid \u001b[38;5;241m=\u001b[39m \u001b[43mGrid\u001b[49m(dim, lo, (\u001b[38;5;241m150.e-6\u001b[39m, \u001b[38;5;241m60e-15\u001b[39m), npoints, n_azimuthal_modes\u001b[38;5;241m=\u001b[39mlaser\u001b[38;5;241m.\u001b[39mgrid\u001b[38;5;241m.\u001b[39mn_azimuthal_modes)    \n\u001b[1;32m     39\u001b[0m laser\u001b[38;5;241m.\u001b[39mpropagate((f0), grid\u001b[38;5;241m=\u001b[39mnew_grid, nr_boundary \u001b[38;5;241m=\u001b[39m \u001b[38;5;241m128\u001b[39m, backend \u001b[38;5;241m=\u001b[39m \u001b[38;5;124m'\u001b[39m\u001b[38;5;124mCU\u001b[39m\u001b[38;5;124m'\u001b[39m) \u001b[38;5;66;03m#resample the grid\u001b[39;00m\n\u001b[1;32m     41\u001b[0m plt\u001b[38;5;241m.\u001b[39mimshow(np\u001b[38;5;241m.\u001b[39mabs(laser\u001b[38;5;241m.\u001b[39mgrid\u001b[38;5;241m.\u001b[39mfield[\u001b[38;5;241m0\u001b[39m, :, :])\u001b[38;5;241m*\u001b[39m\u001b[38;5;241m*\u001b[39m\u001b[38;5;241m2\u001b[39m, aspect \u001b[38;5;241m=\u001b[39m \u001b[38;5;124m'\u001b[39m\u001b[38;5;124mauto\u001b[39m\u001b[38;5;124m'\u001b[39m)\n",
      "\u001b[0;31mNameError\u001b[0m: name 'Grid' is not defined"
     ]
    }
   ],
   "source": [
    "dim = \"rt\"\n",
    "lo = (0e-3, -60e-15)\n",
    "hi = (60e-3, +60e-15)\n",
    "npoints = (6000, 300)\n",
    "\n",
    "laser = Laser(dim, lo, hi, npoints, gaussian_profile)\n",
    "check_resampling(laser)"
   ]
  },
  {
   "cell_type": "code",
   "execution_count": null,
   "id": "41fd23f5-30b1-4534-9ad3-d49ca81dae60",
   "metadata": {},
   "outputs": [],
   "source": []
  },
  {
   "cell_type": "code",
   "execution_count": null,
   "id": "48049db2-895e-40cb-9829-13579570568c",
   "metadata": {},
   "outputs": [],
   "source": []
  },
  {
   "cell_type": "code",
   "execution_count": null,
   "id": "cd36967a-9643-48b0-a130-ad21ecc31031",
   "metadata": {},
   "outputs": [],
   "source": []
  },
  {
   "cell_type": "code",
   "execution_count": null,
   "id": "7dafd0a2-32c6-4925-8053-740578294f7a",
   "metadata": {},
   "outputs": [],
   "source": []
  }
 ],
 "metadata": {
  "kernelspec": {
   "display_name": "fbpic",
   "language": "python",
   "name": "fbpic"
  },
  "language_info": {
   "codemirror_mode": {
    "name": "ipython",
    "version": 3
   },
   "file_extension": ".py",
   "mimetype": "text/x-python",
   "name": "python",
   "nbconvert_exporter": "python",
   "pygments_lexer": "ipython3",
   "version": "3.11.4"
  }
 },
 "nbformat": 4,
 "nbformat_minor": 5
}
